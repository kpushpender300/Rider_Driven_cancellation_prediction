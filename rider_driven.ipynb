{
 "cells": [
  {
   "cell_type": "markdown",
   "id": "1dd9c0ff",
   "metadata": {
    "id": "1dd9c0ff",
    "papermill": {
     "duration": 0.047224,
     "end_time": "2022-02-16T14:10:33.123728",
     "exception": false,
     "start_time": "2022-02-16T14:10:33.076504",
     "status": "completed"
    },
    "tags": []
   },
   "source": [
    "# Import libraries"
   ]
  },
  {
   "cell_type": "code",
   "execution_count": null,
   "id": "804891e3",
   "metadata": {
    "_cell_guid": "b1076dfc-b9ad-4769-8c92-a6c4dae69d19",
    "_uuid": "8f2839f25d086af736a60e9eeb907d3b93b6e0e5",
    "execution": {
     "iopub.execute_input": "2022-02-16T14:10:33.221625Z",
     "iopub.status.busy": "2022-02-16T14:10:33.219643Z",
     "iopub.status.idle": "2022-02-16T14:10:36.072492Z",
     "shell.execute_reply": "2022-02-16T14:10:36.071575Z",
     "shell.execute_reply.started": "2022-02-16T14:01:12.855260Z"
    },
    "id": "804891e3",
    "outputId": "4c9d6113-d79a-40a9-aae2-4db9489d63dd",
    "papermill": {
     "duration": 2.902654,
     "end_time": "2022-02-16T14:10:36.072755",
     "exception": false,
     "start_time": "2022-02-16T14:10:33.170101",
     "status": "completed"
    },
    "tags": []
   },
   "outputs": [],
   "source": [
    "import numpy as np\n",
    "import pandas as pd \n",
    "from tqdm import tqdm\n",
    "import math\n",
    "import time\n",
    "import seaborn as sns\n",
    "import xgboost as xgb\n",
    "from sklearn.preprocessing import LabelEncoder\n",
    "from sklearn.manifold import TSNE\n",
    "from sklearn.decomposition import PCA, TruncatedSVD\n",
    "from sklearn.ensemble import RandomForestClassifier\n",
    "from sklearn.metrics import classification_report, confusion_matrix, accuracy_score,roc_auc_score\n",
    "from sklearn.model_selection import StratifiedKFold\n",
    "from sklearn.metrics import classification_report, confusion_matrix\n",
    "from sklearn.ensemble import AdaBoostClassifier\n",
    "\n",
    "tqdm.pandas()"
   ]
  },
  {
   "cell_type": "markdown",
   "id": "1230cfd9",
   "metadata": {
    "id": "1230cfd9",
    "papermill": {
     "duration": 0.042777,
     "end_time": "2022-02-16T14:10:36.164978",
     "exception": false,
     "start_time": "2022-02-16T14:10:36.122201",
     "status": "completed"
    },
    "tags": []
   },
   "source": [
    "# Reading data"
   ]
  },
  {
   "cell_type": "code",
   "execution_count": 3,
   "id": "c2d5cb7d",
   "metadata": {
    "execution": {
     "iopub.execute_input": "2022-02-16T14:10:36.257526Z",
     "iopub.status.busy": "2022-02-16T14:10:36.256593Z",
     "iopub.status.idle": "2022-02-16T14:10:40.259199Z",
     "shell.execute_reply": "2022-02-16T14:10:40.258487Z",
     "shell.execute_reply.started": "2022-02-16T14:01:15.236224Z"
    },
    "id": "c2d5cb7d",
    "papermill": {
     "duration": 4.051011,
     "end_time": "2022-02-16T14:10:40.259353",
     "exception": false,
     "start_time": "2022-02-16T14:10:36.208342",
     "status": "completed"
    },
    "tags": []
   },
   "outputs": [],
   "source": [
    "train = pd.read_csv('data_set/train.csv')\n",
    "test = pd.read_csv('data_set/test.csv')\n",
    "sample_submission = pd.read_csv('data_set/sample_submission.csv')"
   ]
  },
  {
   "cell_type": "markdown",
   "id": "e26a6abe",
   "metadata": {
    "id": "e26a6abe",
    "papermill": {
     "duration": 0.043593,
     "end_time": "2022-02-16T14:10:40.348091",
     "exception": false,
     "start_time": "2022-02-16T14:10:40.304498",
     "status": "completed"
    },
    "tags": []
   },
   "source": [
    "- `order_id` : unique id for each order\n",
    "- `order_time`: time of the creation of order by the client\n",
    "- `order_date` : date of the order\n",
    "- `allot_time`: time of allocation of order to the rider\n",
    "- `accept_time`: time of acceptance of the order by the rider (if available)\n",
    "- `pickup_time`: time of pickup of the order (if available)\n",
    "- `delivered_time`: time of delivery of the order (if available)\n",
    "- `cancelled_time`: time of cancellation of order (if the order was cancelled)\n",
    "- `cancelled`: whether the order was cancelled\n",
    "- `rider_id`: unique id for each rider\n",
    "- `first_mile_distance`: road distance from rider’s location to the pickup location\n",
    "- `last_mile_distance`: road distance from pickup location to the delivery location\n",
    "- `allotted_orders`: total number of orders allotted to the rider in the 30 days before (not including) order_date\n",
    "- `delivered_orders`: total number of orders delivered by the rider in the 30 days before (not including) order_date\n",
    "- `undelivered_orders`: total number of orders allotted to but not delivered by the rider (i.e. cancelled) in the 30 days before (not including) order_date\n",
    "- `lifetime_order_count`: total number of orders delivered by the rider at any time before order_date\n",
    "- `reassigned_order`: whether the order was reassigned to this rider\n",
    "- `reassignment_method`: if the order was reassigned, whether the reassignment was done manually (by the ops team) or automatically\n",
    "- `reassignment_reason`: a more detailed reason for the reassignment\n",
    "- `session_time`: total time the rider had been online on order_date before order_time\n"
   ]
  },
  {
   "cell_type": "code",
   "execution_count": 4,
   "id": "83ce0146",
   "metadata": {
    "execution": {
     "iopub.execute_input": "2022-02-16T14:10:40.441144Z",
     "iopub.status.busy": "2022-02-16T14:10:40.440152Z",
     "iopub.status.idle": "2022-02-16T14:10:40.443764Z",
     "shell.execute_reply": "2022-02-16T14:10:40.443050Z",
     "shell.execute_reply.started": "2022-02-16T14:01:18.680267Z"
    },
    "id": "83ce0146",
    "papermill": {
     "duration": 0.052382,
     "end_time": "2022-02-16T14:10:40.443920",
     "exception": false,
     "start_time": "2022-02-16T14:10:40.391538",
     "status": "completed"
    },
    "tags": []
   },
   "outputs": [],
   "source": [
    "id_columns = ['order_id']\n",
    "\n",
    "time_columns = ['order_time', 'order_date', 'allot_time', 'accept_time',\n",
    "       'pickup_time', 'delivered_time','cancelled_time']\n",
    "\n",
    "categorical_columns = ['reassignment_method','reassignment_reason']"
   ]
  },
  {
   "cell_type": "markdown",
   "id": "f979ec4e",
   "metadata": {
    "id": "f979ec4e",
    "papermill": {
     "duration": 0.043221,
     "end_time": "2022-02-16T14:10:40.530268",
     "exception": false,
     "start_time": "2022-02-16T14:10:40.487047",
     "status": "completed"
    },
    "tags": []
   },
   "source": [
    "# Converting to datetime and object"
   ]
  },
  {
   "cell_type": "code",
   "execution_count": null,
   "id": "2e998b9b",
   "metadata": {
    "execution": {
     "iopub.execute_input": "2022-02-16T14:10:40.632161Z",
     "iopub.status.busy": "2022-02-16T14:10:40.631496Z",
     "iopub.status.idle": "2022-02-16T14:10:42.094213Z",
     "shell.execute_reply": "2022-02-16T14:10:42.094758Z",
     "shell.execute_reply.started": "2022-02-16T14:01:18.688048Z"
    },
    "id": "2e998b9b",
    "papermill": {
     "duration": 1.521401,
     "end_time": "2022-02-16T14:10:42.095000",
     "exception": false,
     "start_time": "2022-02-16T14:10:40.573599",
     "status": "completed"
    },
    "tags": []
   },
   "outputs": [],
   "source": [
    "ids = train[id_columns]\n",
    "train = train.drop(ids, axis=1)\n",
    "test = test.drop(ids,axis=1)\n",
    "\n",
    "for col in time_columns:\n",
    "    train[col] = pd.to_datetime(train[col])\n",
    "    try:\n",
    "        test[col] = pd.to_datetime(test[col])\n",
    "    except:\n",
    "        continue\n",
    "\n",
    "for col in categorical_columns:\n",
    "    train[col] = train[col].astype('object')\n",
    "    try:\n",
    "        test[col] = test[col].astype('object')\n",
    "    except:\n",
    "        continue"
   ]
  },
  {
   "cell_type": "markdown",
   "id": "a7ea4ba0",
   "metadata": {
    "id": "a7ea4ba0",
    "papermill": {
     "duration": 0.046152,
     "end_time": "2022-02-16T14:10:42.190269",
     "exception": false,
     "start_time": "2022-02-16T14:10:42.144117",
     "status": "completed"
    },
    "tags": []
   },
   "source": [
    "# Preprocessing"
   ]
  },
  {
   "cell_type": "code",
   "execution_count": 6,
   "id": "cd15f72c",
   "metadata": {
    "execution": {
     "iopub.execute_input": "2022-02-16T14:10:42.288913Z",
     "iopub.status.busy": "2022-02-16T14:10:42.288133Z",
     "iopub.status.idle": "2022-02-16T14:10:42.294342Z",
     "shell.execute_reply": "2022-02-16T14:10:42.293670Z",
     "shell.execute_reply.started": "2022-02-16T14:01:20.100101Z"
    },
    "id": "cd15f72c",
    "papermill": {
     "duration": 0.053968,
     "end_time": "2022-02-16T14:10:42.294546",
     "exception": false,
     "start_time": "2022-02-16T14:10:42.240578",
     "status": "completed"
    },
    "tags": []
   },
   "outputs": [],
   "source": [
    "def peak_hour(x):\n",
    "    if x>=8 and x<=11:\n",
    "        return 1\n",
    "    if x>=13 and x<=19:\n",
    "        return 1\n",
    "    return 0\n",
    "\n",
    "def log_normal(x):\n",
    "    if x==0:\n",
    "        return 0\n",
    "    if x>0:\n",
    "        return math.log(x)\n",
    "    else:\n",
    "        return math.log(abs(x))"
   ]
  },
  {
   "cell_type": "code",
   "execution_count": 7,
   "id": "b8cf0883",
   "metadata": {
    "execution": {
     "iopub.execute_input": "2022-02-16T14:10:42.403819Z",
     "iopub.status.busy": "2022-02-16T14:10:42.398101Z",
     "iopub.status.idle": "2022-02-16T14:10:42.406279Z",
     "shell.execute_reply": "2022-02-16T14:10:42.406875Z",
     "shell.execute_reply.started": "2022-02-16T14:01:20.107773Z"
    },
    "id": "b8cf0883",
    "papermill": {
     "duration": 0.066944,
     "end_time": "2022-02-16T14:10:42.407103",
     "exception": false,
     "start_time": "2022-02-16T14:10:42.340159",
     "status": "completed"
    },
    "tags": []
   },
   "outputs": [],
   "source": [
    "def preprocess(df):\n",
    "    df['order_day'] = df['order_date'].dt.dayofyear\n",
    "    df['diff_allot_order'] = df['allot_time']-df['order_time']\n",
    "    df['diff_allot_order'] = df['diff_allot_order'].dt.components['hours']*3600+df['diff_allot_order'].dt.components['minutes']*60+df['diff_allot_order'].dt.components['seconds']\n",
    "    df['diff_accept_allot'] = df['accept_time']-df['allot_time']\n",
    "    df['diff_accept_allot'] = df['diff_accept_allot'].dt.components['hours']*3600+df['diff_accept_allot'].dt.components['minutes']*60+df['diff_accept_allot'].dt.components['seconds']\n",
    "    df['diff_accept_order'] = df['accept_time']-df['order_time']\n",
    "    df['diff_accept_order'] = df['diff_accept_order'].dt.components['hours']*3600+df['diff_accept_order'].dt.components['minutes']*60+df['diff_accept_order'].dt.components['seconds']\n",
    "    df['total_dist'] = df['first_mile_distance']+df['last_mile_distance']\n",
    "    df['hour_in_day'] = df['order_time'].dt.hour\n",
    "    df['day_of_week'] = df['order_date'].dt.dayofweek\n",
    "    df[['cum_diff_allot_order','cum_diff_accept_allot','cum_diff_accept_order','cum_total_dist','cum_first_mile_dist','cum_last_mile_dist']]=df.groupby(['rider_id','order_date'])[['diff_allot_order','diff_accept_allot','diff_accept_order','total_dist','first_mile_distance','last_mile_distance']].cumsum()\n",
    "    df['order_today'] = df.groupby(['rider_id','order_date']).cumcount()\n",
    "    df['orders_cum'] = df.groupby(['rider_id']).cumcount()\n",
    "    df['reassigned_order'] = df['reassigned_order'].fillna(0)                                                      \n",
    "    df['saturday'] = df['day_of_week'].apply(lambda x:1 if x==5 else 0)\n",
    "    for col in df.columns:\n",
    "        if df[col].isnull().sum()>0:\n",
    "            df[col]=df[col].fillna(0)\n",
    "    df['orders_diff'] = df['alloted_orders']-df['delivered_orders']\n",
    "    riders = df.groupby(['order_date','hour_in_day'])['rider_id'].count().to_dict()\n",
    "    df['riders_available'] = df.apply(lambda x: riders[(x.order_date,x.hour_in_day)],axis=1)\n",
    "    df['reliability'] = (df['alloted_orders']-df['undelivered_orders'])*100/df['alloted_orders']\n",
    "    df['reliability'] = df['reliability'].fillna(0)\n",
    "    cols = []\n",
    "    col_dict = ((df.dtypes==int)|(df.dtypes==float)).to_dict()\n",
    "    for col in col_dict.keys():\n",
    "        if col_dict[col]:\n",
    "            cols.append(col)\n",
    "    df[\"mean\"] = df[cols].mean(axis=1)\n",
    "    df[\"std\"] = df[cols].std(axis=1)\n",
    "    df[\"min\"] = df[cols].min(axis=1)\n",
    "    df[\"max\"] = df[cols].max(axis=1) \n",
    "    \n",
    "    return df"
   ]
  },
  {
   "cell_type": "markdown",
   "id": "f1727702",
   "metadata": {
    "id": "f1727702",
    "papermill": {
     "duration": 0.048435,
     "end_time": "2022-02-16T14:10:42.502401",
     "exception": false,
     "start_time": "2022-02-16T14:10:42.453966",
     "status": "completed"
    },
    "tags": []
   },
   "source": [
    "# Train Valid Split"
   ]
  },
  {
   "cell_type": "code",
   "execution_count": null,
   "id": "6d1f3af9",
   "metadata": {
    "collapsed": true,
    "execution": {
     "iopub.execute_input": "2022-02-16T14:10:42.601459Z",
     "iopub.status.busy": "2022-02-16T14:10:42.600755Z",
     "iopub.status.idle": "2022-02-16T14:12:41.185780Z",
     "shell.execute_reply": "2022-02-16T14:12:41.185160Z",
     "shell.execute_reply.started": "2022-02-16T14:01:20.127703Z"
    },
    "id": "6d1f3af9",
    "jupyter": {
     "outputs_hidden": true
    },
    "outputId": "bb2c9a91-15a8-4852-9ee8-45e0ee3a9816",
    "papermill": {
     "duration": 118.634818,
     "end_time": "2022-02-16T14:12:41.185968",
     "exception": false,
     "start_time": "2022-02-16T14:10:42.551150",
     "status": "completed"
    },
    "tags": []
   },
   "outputs": [],
   "source": [
    "train_df = train[:395778]\n",
    "valid_df = train[395778:]\n",
    "train_df = preprocess(train_df)\n",
    "valid_data = preprocess(valid_df)\n",
    "test_df= preprocess(test)"
   ]
  },
  {
   "cell_type": "markdown",
   "id": "0ea7104d",
   "metadata": {
    "id": "0ea7104d",
    "papermill": {
     "duration": 0.047193,
     "end_time": "2022-02-16T14:12:41.281649",
     "exception": false,
     "start_time": "2022-02-16T14:12:41.234456",
     "status": "completed"
    },
    "tags": []
   },
   "source": [
    "# Rider details feature engineering"
   ]
  },
  {
   "cell_type": "code",
   "execution_count": null,
   "id": "0ed2fe78",
   "metadata": {
    "execution": {
     "iopub.execute_input": "2022-02-16T14:12:41.385935Z",
     "iopub.status.busy": "2022-02-16T14:12:41.385227Z",
     "iopub.status.idle": "2022-02-16T14:13:34.366839Z",
     "shell.execute_reply": "2022-02-16T14:13:34.366235Z",
     "shell.execute_reply.started": "2022-02-16T14:03:19.537146Z"
    },
    "id": "0ed2fe78",
    "outputId": "df6e38d7-25f7-4933-9665-cde0ba94752b",
    "papermill": {
     "duration": 53.038261,
     "end_time": "2022-02-16T14:13:34.367000",
     "exception": false,
     "start_time": "2022-02-16T14:12:41.328739",
     "status": "completed"
    },
    "tags": []
   },
   "outputs": [],
   "source": [
    "rider_cols_mean = ['session_time', 'first_mile_distance','last_mile_distance','total_dist']\n",
    "\n",
    "df = pd.concat([train_df,valid_df,test_df])\n",
    "\n",
    "data = df.groupby('rider_id').cumsum()[rider_cols_mean]\n",
    "data['cumcounts'] = df.groupby('rider_id').cumcount()\n",
    "data['cumcounts'] = data['cumcounts']+1\n",
    "for i in ['session_time', 'first_mile_distance', 'last_mile_distance', 'total_dist']:\n",
    "    data[i] = data[[i,'cumcounts']].progress_apply(lambda x:x[i]/x['cumcounts'],axis=1)"
   ]
  },
  {
   "cell_type": "code",
   "execution_count": null,
   "id": "845e0f37",
   "metadata": {
    "execution": {
     "iopub.execute_input": "2022-02-16T14:13:34.833496Z",
     "iopub.status.busy": "2022-02-16T14:13:34.832827Z",
     "iopub.status.idle": "2022-02-16T14:13:34.866753Z",
     "shell.execute_reply": "2022-02-16T14:13:34.867265Z",
     "shell.execute_reply.started": "2022-02-16T14:04:10.928675Z"
    },
    "id": "845e0f37",
    "outputId": "7519403d-b0aa-41db-9ad6-e2d4d5c26206",
    "papermill": {
     "duration": 0.267573,
     "end_time": "2022-02-16T14:13:34.867504",
     "exception": false,
     "start_time": "2022-02-16T14:13:34.599931",
     "status": "completed"
    },
    "tags": []
   },
   "outputs": [
    {
     "data": {
      "text/html": [
       "<div>\n",
       "<style scoped>\n",
       "    .dataframe tbody tr th:only-of-type {\n",
       "        vertical-align: middle;\n",
       "    }\n",
       "\n",
       "    .dataframe tbody tr th {\n",
       "        vertical-align: top;\n",
       "    }\n",
       "\n",
       "    .dataframe thead th {\n",
       "        text-align: right;\n",
       "    }\n",
       "</style>\n",
       "<table border=\"1\" class=\"dataframe\">\n",
       "  <thead>\n",
       "    <tr style=\"text-align: right;\">\n",
       "      <th></th>\n",
       "      <th>session_time</th>\n",
       "      <th>first_mile_distance</th>\n",
       "      <th>last_mile_distance</th>\n",
       "      <th>total_dist</th>\n",
       "      <th>cumcounts</th>\n",
       "    </tr>\n",
       "  </thead>\n",
       "  <tbody>\n",
       "    <tr>\n",
       "      <th>0</th>\n",
       "      <td>0.000000</td>\n",
       "      <td>1.566600</td>\n",
       "      <td>2.650000</td>\n",
       "      <td>4.216600</td>\n",
       "      <td>1</td>\n",
       "    </tr>\n",
       "    <tr>\n",
       "      <th>1</th>\n",
       "      <td>3.266667</td>\n",
       "      <td>2.520700</td>\n",
       "      <td>2.760000</td>\n",
       "      <td>5.280700</td>\n",
       "      <td>1</td>\n",
       "    </tr>\n",
       "    <tr>\n",
       "      <th>2</th>\n",
       "      <td>9.816667</td>\n",
       "      <td>2.207400</td>\n",
       "      <td>4.800000</td>\n",
       "      <td>7.007400</td>\n",
       "      <td>1</td>\n",
       "    </tr>\n",
       "    <tr>\n",
       "      <th>3</th>\n",
       "      <td>17.533333</td>\n",
       "      <td>2.189400</td>\n",
       "      <td>6.380000</td>\n",
       "      <td>8.569400</td>\n",
       "      <td>1</td>\n",
       "    </tr>\n",
       "    <tr>\n",
       "      <th>4</th>\n",
       "      <td>1.350000</td>\n",
       "      <td>2.787000</td>\n",
       "      <td>4.010000</td>\n",
       "      <td>6.797000</td>\n",
       "      <td>1</td>\n",
       "    </tr>\n",
       "    <tr>\n",
       "      <th>...</th>\n",
       "      <td>...</td>\n",
       "      <td>...</td>\n",
       "      <td>...</td>\n",
       "      <td>...</td>\n",
       "      <td>...</td>\n",
       "    </tr>\n",
       "    <tr>\n",
       "      <th>144839</th>\n",
       "      <td>137.422523</td>\n",
       "      <td>1.766382</td>\n",
       "      <td>2.750000</td>\n",
       "      <td>4.516382</td>\n",
       "      <td>37</td>\n",
       "    </tr>\n",
       "    <tr>\n",
       "      <th>144840</th>\n",
       "      <td>411.332222</td>\n",
       "      <td>0.460262</td>\n",
       "      <td>1.067333</td>\n",
       "      <td>1.527595</td>\n",
       "      <td>30</td>\n",
       "    </tr>\n",
       "    <tr>\n",
       "      <th>144841</th>\n",
       "      <td>121.676190</td>\n",
       "      <td>0.996990</td>\n",
       "      <td>2.565571</td>\n",
       "      <td>3.562562</td>\n",
       "      <td>70</td>\n",
       "    </tr>\n",
       "    <tr>\n",
       "      <th>144842</th>\n",
       "      <td>456.847764</td>\n",
       "      <td>1.200194</td>\n",
       "      <td>2.513780</td>\n",
       "      <td>3.713974</td>\n",
       "      <td>82</td>\n",
       "    </tr>\n",
       "    <tr>\n",
       "      <th>144843</th>\n",
       "      <td>227.974731</td>\n",
       "      <td>1.787710</td>\n",
       "      <td>2.932903</td>\n",
       "      <td>4.720613</td>\n",
       "      <td>31</td>\n",
       "    </tr>\n",
       "  </tbody>\n",
       "</table>\n",
       "<p>594844 rows × 5 columns</p>\n",
       "</div>"
      ],
      "text/plain": [
       "        session_time  first_mile_distance  last_mile_distance  total_dist  \\\n",
       "0           0.000000             1.566600            2.650000    4.216600   \n",
       "1           3.266667             2.520700            2.760000    5.280700   \n",
       "2           9.816667             2.207400            4.800000    7.007400   \n",
       "3          17.533333             2.189400            6.380000    8.569400   \n",
       "4           1.350000             2.787000            4.010000    6.797000   \n",
       "...              ...                  ...                 ...         ...   \n",
       "144839    137.422523             1.766382            2.750000    4.516382   \n",
       "144840    411.332222             0.460262            1.067333    1.527595   \n",
       "144841    121.676190             0.996990            2.565571    3.562562   \n",
       "144842    456.847764             1.200194            2.513780    3.713974   \n",
       "144843    227.974731             1.787710            2.932903    4.720613   \n",
       "\n",
       "        cumcounts  \n",
       "0               1  \n",
       "1               1  \n",
       "2               1  \n",
       "3               1  \n",
       "4               1  \n",
       "...           ...  \n",
       "144839         37  \n",
       "144840         30  \n",
       "144841         70  \n",
       "144842         82  \n",
       "144843         31  \n",
       "\n",
       "[594844 rows x 5 columns]"
      ]
     },
     "execution_count": 9,
     "metadata": {},
     "output_type": "execute_result"
    }
   ],
   "source": [
    "rider_deets = data.copy()\n",
    "rider_deets"
   ]
  },
  {
   "cell_type": "code",
   "execution_count": null,
   "id": "09d71efc",
   "metadata": {
    "execution": {
     "iopub.execute_input": "2022-02-16T14:13:35.337589Z",
     "iopub.status.busy": "2022-02-16T14:13:35.336947Z",
     "iopub.status.idle": "2022-02-16T14:13:35.340025Z",
     "shell.execute_reply": "2022-02-16T14:13:35.339395Z",
     "shell.execute_reply.started": "2022-02-16T14:04:10.958070Z"
    },
    "id": "09d71efc",
    "papermill": {
     "duration": 0.239316,
     "end_time": "2022-02-16T14:13:35.340165",
     "exception": false,
     "start_time": "2022-02-16T14:13:35.100849",
     "status": "completed"
    },
    "tags": []
   },
   "outputs": [],
   "source": [
    "time_columns = ['order_time', 'order_date', 'allot_time', 'accept_time',\n",
    "       'pickup_time', 'delivered_time','cancelled_time']\n",
    "numerical_columns = ['first_mile_distance',\n",
    "       'last_mile_distance', 'alloted_orders', 'delivered_orders', 'lifetime_order_count',\n",
    "                    'session_time','diff_allot_order', 'diff_accept_allot',\n",
    "       'diff_accept_order', 'total_dist','cum_diff_allot_order', 'cum_diff_accept_allot',\n",
    "       'cum_diff_accept_order', 'cum_total_dist', 'allotted_orders',\n",
    "                     'riders_available','orders_cum','reliability']\n",
    "categorical_columns = ['reassignment_method','reassignment_reason','reassigned_order','order_day','hour_in_day','undelivered_orders','day_of_week',\n",
    "                       'order_today', 'allotted', 'deliveries','period_in_day','saturday','first_mile', 'last_mile','orders_diff']"
   ]
  },
  {
   "cell_type": "code",
   "execution_count": null,
   "id": "79494681",
   "metadata": {
    "execution": {
     "iopub.execute_input": "2022-02-16T14:13:36.282090Z",
     "iopub.status.busy": "2022-02-16T14:13:36.281413Z",
     "iopub.status.idle": "2022-02-16T14:13:36.480060Z",
     "shell.execute_reply": "2022-02-16T14:13:36.479514Z",
     "shell.execute_reply.started": "2022-02-16T14:04:10.965846Z"
    },
    "id": "79494681",
    "papermill": {
     "duration": 0.437089,
     "end_time": "2022-02-16T14:13:36.480210",
     "exception": false,
     "start_time": "2022-02-16T14:13:36.043121",
     "status": "completed"
    },
    "tags": []
   },
   "outputs": [],
   "source": [
    "train_df_c = train_df[train_df['cancelled']==1].sample(int(train_df[train_df['cancelled']==1].shape[0]*1),replace=False,random_state=42)\n",
    "train_df_d = train_df[train_df['cancelled']==0].sample(int(train_df_c.shape[0])*1,random_state=42)"
   ]
  },
  {
   "cell_type": "code",
   "execution_count": null,
   "id": "144ced7d",
   "metadata": {
    "execution": {
     "iopub.execute_input": "2022-02-16T14:13:36.951791Z",
     "iopub.status.busy": "2022-02-16T14:13:36.951077Z",
     "iopub.status.idle": "2022-02-16T14:13:36.967972Z",
     "shell.execute_reply": "2022-02-16T14:13:36.967444Z",
     "shell.execute_reply.started": "2022-02-16T14:04:11.123823Z"
    },
    "id": "144ced7d",
    "papermill": {
     "duration": 0.258417,
     "end_time": "2022-02-16T14:13:36.968117",
     "exception": false,
     "start_time": "2022-02-16T14:13:36.709700",
     "status": "completed"
    },
    "tags": []
   },
   "outputs": [],
   "source": [
    "combined_df = pd.concat([train_df_c,train_df_d])\n",
    "combined_df = combined_df.sort_values('order_time')"
   ]
  },
  {
   "cell_type": "code",
   "execution_count": null,
   "id": "e44d4d49",
   "metadata": {
    "execution": {
     "iopub.execute_input": "2022-02-16T14:13:37.435723Z",
     "iopub.status.busy": "2022-02-16T14:13:37.435039Z",
     "iopub.status.idle": "2022-02-16T14:13:37.437937Z",
     "shell.execute_reply": "2022-02-16T14:13:37.437405Z",
     "shell.execute_reply.started": "2022-02-16T14:04:11.144695Z"
    },
    "id": "e44d4d49",
    "papermill": {
     "duration": 0.238824,
     "end_time": "2022-02-16T14:13:37.438081",
     "exception": false,
     "start_time": "2022-02-16T14:13:37.199257",
     "status": "completed"
    },
    "tags": []
   },
   "outputs": [],
   "source": [
    "cols = ['first_mile_distance',\n",
    "       'last_mile_distance', 'alloted_orders', 'delivered_orders',\n",
    "       'undelivered_orders', 'lifetime_order_count',\n",
    "       'session_time',\n",
    "       'order_day', 'diff_allot_order', 'diff_accept_allot',\n",
    "       'diff_accept_order', 'total_dist', 'hour_in_day', 'day_of_week','cum_diff_allot_order', 'cum_diff_accept_allot',\n",
    "       'cum_diff_accept_order','reassigned_order',\n",
    "       'cum_total_dist', 'order_today','rider_id','orders_cum',\n",
    "       'saturday','orders_diff','riders_available','cum_first_mile_dist','cum_last_mile_dist','reliability','mean','std','min','max']\n"
   ]
  },
  {
   "cell_type": "markdown",
   "id": "199cc239",
   "metadata": {
    "id": "199cc239",
    "papermill": {
     "duration": 0.227947,
     "end_time": "2022-02-16T14:13:37.895903",
     "exception": false,
     "start_time": "2022-02-16T14:13:37.667956",
     "status": "completed"
    },
    "tags": []
   },
   "source": [
    "# Combining datasets with details about the rider"
   ]
  },
  {
   "cell_type": "code",
   "execution_count": null,
   "id": "6a608bbc",
   "metadata": {
    "execution": {
     "iopub.execute_input": "2022-02-16T14:13:38.366193Z",
     "iopub.status.busy": "2022-02-16T14:13:38.365491Z",
     "iopub.status.idle": "2022-02-16T14:13:38.481912Z",
     "shell.execute_reply": "2022-02-16T14:13:38.481203Z",
     "shell.execute_reply.started": "2022-02-16T14:04:11.151580Z"
    },
    "id": "6a608bbc",
    "papermill": {
     "duration": 0.354409,
     "end_time": "2022-02-16T14:13:38.482063",
     "exception": false,
     "start_time": "2022-02-16T14:13:38.127654",
     "status": "completed"
    },
    "tags": []
   },
   "outputs": [],
   "source": [
    "combined_df = combined_df[cols+['cancelled']]\n",
    "combined_df = pd.merge(combined_df,rider_deets[:-test_df.shape[0]],left_index=True,right_index=True)\n",
    "\n",
    "X_train = combined_df.drop('cancelled',axis=1)\n",
    "y_train = combined_df['cancelled']\n",
    "\n",
    "\n",
    "valid_df = valid_data[cols+['cancelled']]\n",
    "valid_df = pd.merge(valid_df,rider_deets[:-test_df.shape[0]],left_index=True,right_index=True)\n",
    "\n",
    "X_test = valid_df.drop('cancelled',axis=1)\n",
    "y_test = valid_df['cancelled']"
   ]
  },
  {
   "cell_type": "markdown",
   "id": "0b9f741b",
   "metadata": {
    "id": "0b9f741b",
    "papermill": {
     "duration": 0.231206,
     "end_time": "2022-02-16T14:13:38.942326",
     "exception": false,
     "start_time": "2022-02-16T14:13:38.711120",
     "status": "completed"
    },
    "tags": []
   },
   "source": [
    "# Predictions\n",
    "### All model hyperparameters were tuned using XGBoost Optuna or GridSearch"
   ]
  },
  {
   "cell_type": "markdown",
   "id": "9cc6bb35",
   "metadata": {
    "id": "9cc6bb35",
    "papermill": {
     "duration": 0.256424,
     "end_time": "2022-02-16T14:13:39.427560",
     "exception": false,
     "start_time": "2022-02-16T14:13:39.171136",
     "status": "completed"
    },
    "tags": []
   },
   "source": [
    "# Random Forests Classifier"
   ]
  },
  {
   "cell_type": "code",
   "execution_count": null,
   "id": "753393af",
   "metadata": {
    "execution": {
     "iopub.execute_input": "2022-02-16T14:13:39.894003Z",
     "iopub.status.busy": "2022-02-16T14:13:39.892935Z",
     "iopub.status.idle": "2022-02-16T14:14:18.482851Z",
     "shell.execute_reply": "2022-02-16T14:14:18.483395Z",
     "shell.execute_reply.started": "2022-02-16T14:04:11.257687Z"
    },
    "id": "753393af",
    "outputId": "ff72e8e6-1b91-4854-849c-8b7d4ac5cd64",
    "papermill": {
     "duration": 38.827413,
     "end_time": "2022-02-16T14:14:18.483654",
     "exception": false,
     "start_time": "2022-02-16T14:13:39.656241",
     "status": "completed"
    },
    "tags": []
   },
   "outputs": [
    {
     "data": {
      "text/plain": [
       "RandomForestClassifier(max_depth=40, min_samples_leaf=2, min_samples_split=10,\n",
       "                       n_estimators=900, random_state=2020)"
      ]
     },
     "execution_count": 15,
     "metadata": {},
     "output_type": "execute_result"
    }
   ],
   "source": [
    "params = {'n_estimators': 900, 'max_depth': 40, 'random_state': 2020, 'min_samples_split': 10, 'min_samples_leaf': 2}\n",
    "\n",
    "rf = RandomForestClassifier(**params)\n",
    "rf.fit(X_train, y_train)"
   ]
  },
  {
   "cell_type": "code",
   "execution_count": null,
   "id": "4318e4a0",
   "metadata": {
    "execution": {
     "iopub.execute_input": "2022-02-16T14:14:18.979891Z",
     "iopub.status.busy": "2022-02-16T14:14:18.979160Z",
     "iopub.status.idle": "2022-02-16T14:14:38.811293Z",
     "shell.execute_reply": "2022-02-16T14:14:38.810604Z",
     "shell.execute_reply.started": "2022-02-16T14:04:48.728885Z"
    },
    "id": "4318e4a0",
    "papermill": {
     "duration": 20.076617,
     "end_time": "2022-02-16T14:14:38.811498",
     "exception": false,
     "start_time": "2022-02-16T14:14:18.734881",
     "status": "completed"
    },
    "tags": []
   },
   "outputs": [],
   "source": [
    "rf_preds = rf.predict(X_test)\n",
    "rf_preds_prob = rf.predict_proba(X_test)[:,1]"
   ]
  },
  {
   "cell_type": "code",
   "execution_count": null,
   "id": "7d685021",
   "metadata": {
    "execution": {
     "iopub.execute_input": "2022-02-16T14:14:39.311069Z",
     "iopub.status.busy": "2022-02-16T14:14:39.310269Z",
     "iopub.status.idle": "2022-02-16T14:14:50.923399Z",
     "shell.execute_reply": "2022-02-16T14:14:50.924036Z",
     "shell.execute_reply.started": "2022-02-16T14:05:06.251436Z"
    },
    "id": "7d685021",
    "outputId": "66e6d713-64bb-48d0-b9a7-2157a04670f7",
    "papermill": {
     "duration": 11.866962,
     "end_time": "2022-02-16T14:14:50.924253",
     "exception": false,
     "start_time": "2022-02-16T14:14:39.057291",
     "status": "completed"
    },
    "tags": []
   },
   "outputs": [
    {
     "name": "stdout",
     "output_type": "stream",
     "text": [
      "              precision    recall  f1-score   support\n",
      "\n",
      "           0       0.99      0.86      0.92     53618\n",
      "           1       0.04      0.53      0.07       604\n",
      "\n",
      "    accuracy                           0.85     54222\n",
      "   macro avg       0.52      0.70      0.50     54222\n",
      "weighted avg       0.98      0.85      0.91     54222\n",
      "\n",
      "Test Accuracy:  0.8519973442514108\n",
      "Train Accuracy:  0.9843953185955787\n",
      "AUC Score: 0.7415215780803076\n"
     ]
    },
    {
     "data": {
      "image/png": "[encoded data removed]",
      "text/plain": [
       "<Figure size 432x288 with 2 Axes>"
      ]
     },
     "metadata": {
      "needs_background": "light"
     },
     "output_type": "display_data"
    }
   ],
   "source": [
    "result = confusion_matrix(y_test, rf_preds)\n",
    "r = np.sum(result,axis=1)\n",
    "a,b,c,d=result[0][0]/r[0],result[0][1]/r[0],result[1][0]/r[1],result[1][1]/r[1]\n",
    "sns.heatmap([[a,b],[c,d]], annot=True, fmt=\".2%\", cmap='Blues')\n",
    "print(classification_report(y_test,rf_preds))\n",
    "print('Test Accuracy: ',rf.score(X_test,y_test))\n",
    "print('Train Accuracy: ',rf.score(X_train,y_train))\n",
    "print('AUC Score:',roc_auc_score(y_test,rf_preds_prob))"
   ]
  },
  {
   "cell_type": "markdown",
   "id": "e26330e7",
   "metadata": {
    "id": "e26330e7",
    "papermill": {
     "duration": 0.237405,
     "end_time": "2022-02-16T14:14:55.006705",
     "exception": false,
     "start_time": "2022-02-16T14:14:54.769300",
     "status": "completed"
    },
    "tags": []
   },
   "source": [
    "# XGBoost Classifier"
   ]
  },
  {
   "cell_type": "code",
   "execution_count": null,
   "id": "75829c74",
   "metadata": {
    "execution": {
     "iopub.execute_input": "2022-02-16T14:14:55.480057Z",
     "iopub.status.busy": "2022-02-16T14:14:55.479100Z",
     "iopub.status.idle": "2022-02-16T14:14:57.298397Z",
     "shell.execute_reply": "2022-02-16T14:14:57.297821Z",
     "shell.execute_reply.started": "2022-02-16T14:05:18.569777Z"
    },
    "id": "75829c74",
    "outputId": "6722d0b9-61ee-4157-ebf1-18b4d374344b",
    "papermill": {
     "duration": 2.055907,
     "end_time": "2022-02-16T14:14:57.298588",
     "exception": false,
     "start_time": "2022-02-16T14:14:55.242681",
     "status": "completed"
    },
    "tags": []
   },
   "outputs": [
    {
     "name": "stderr",
     "output_type": "stream",
     "text": [
      "/opt/conda/lib/python3.7/site-packages/xgboost/sklearn.py:1224: UserWarning: The use of label encoder in XGBClassifier is deprecated and will be removed in a future release. To remove this warning, do the following: 1) Pass option use_label_encoder=False when constructing XGBClassifier object; and 2) Encode your labels (y) as integers starting with 0, i.e. 0, 1, 2, ..., [num_class - 1].\n",
      "  warnings.warn(label_encoder_deprecation_msg, UserWarning)\n"
     ]
    }
   ],
   "source": [
    "params = {'lambda': 0.20177241158844367, 'alpha': 3.4670054832209787, 'colsample_bytree': 0.8, 'subsample': 0.6, 'learning_rate': 0.02, 'max_depth': 5, 'random_state': 48, 'min_child_weight': 37}\n",
    "\n",
    "xgb_model = xgb.XGBClassifier(**params)\n",
    "xgb_model.fit(X_train, y_train,eval_metric='auc')\n",
    "xgby_pred = xgb_model.predict(X_test)\n",
    "xgby_preds_prob = xgb_model.predict_proba(X_test)[:,1]"
   ]
  },
  {
   "cell_type": "code",
   "execution_count": null,
   "id": "2055a108",
   "metadata": {
    "execution": {
     "iopub.execute_input": "2022-02-16T14:14:57.798898Z",
     "iopub.status.busy": "2022-02-16T14:14:57.798038Z",
     "iopub.status.idle": "2022-02-16T14:14:58.244461Z",
     "shell.execute_reply": "2022-02-16T14:14:58.243769Z",
     "shell.execute_reply.started": "2022-02-16T14:05:20.080662Z"
    },
    "id": "2055a108",
    "outputId": "3cb53e71-1c63-4e60-bc4b-ce5b5ac9926f",
    "papermill": {
     "duration": 0.70518,
     "end_time": "2022-02-16T14:14:58.244634",
     "exception": false,
     "start_time": "2022-02-16T14:14:57.539454",
     "status": "completed"
    },
    "tags": []
   },
   "outputs": [
    {
     "name": "stdout",
     "output_type": "stream",
     "text": [
      "Classification Report:\n",
      "Train Accuracy:  0.7109882964889467\n",
      "Test Accuracy: 0.8759544096492199\n",
      "AUC Score: 0.7360545713495938\n"
     ]
    },
    {
     "data": {
      "image/png": "[encoded data removed]",
      "text/plain": [
       "<Figure size 432x288 with 2 Axes>"
      ]
     },
     "metadata": {
      "needs_background": "light"
     },
     "output_type": "display_data"
    }
   ],
   "source": [
    "result = confusion_matrix(y_test, xgby_pred)\n",
    "r = np.sum(result,axis=1)\n",
    "a,b,c,d=result[0][0]/r[0],result[0][1]/r[0],result[1][0]/r[1],result[1][1]/r[1]\n",
    "sns.heatmap([[a,b],[c,d]], annot=True, fmt=\".2%\", cmap='Blues')\n",
    "result1 = classification_report(y_test, xgby_pred)\n",
    "print(\"Classification Report:\",)\n",
    "result2 = accuracy_score(y_test,xgby_pred)\n",
    "print('Train Accuracy: ',xgb_model.score(X_train,y_train))\n",
    "print(\"Test Accuracy:\",result2)\n",
    "print('AUC Score:',roc_auc_score(y_test,xgby_preds_prob))"
   ]
  },
  {
   "cell_type": "markdown",
   "id": "0cbc30bf",
   "metadata": {
    "id": "0cbc30bf",
    "papermill": {
     "duration": 0.261801,
     "end_time": "2022-02-16T14:15:24.519154",
     "exception": false,
     "start_time": "2022-02-16T14:15:24.257353",
     "status": "completed"
    },
    "tags": []
   },
   "source": [
    "# AdaBoost Classifier"
   ]
  },
  {
   "cell_type": "code",
   "execution_count": null,
   "id": "f22aedd2",
   "metadata": {
    "execution": {
     "iopub.execute_input": "2022-02-16T14:15:25.006157Z",
     "iopub.status.busy": "2022-02-16T14:15:25.005369Z",
     "iopub.status.idle": "2022-02-16T14:16:24.802873Z",
     "shell.execute_reply": "2022-02-16T14:16:24.802193Z",
     "shell.execute_reply.started": "2022-02-16T14:05:44.905297Z"
    },
    "id": "f22aedd2",
    "outputId": "5ea33d30-6035-47fa-d92d-866d3ca99704",
    "papermill": {
     "duration": 60.043998,
     "end_time": "2022-02-16T14:16:24.803020",
     "exception": false,
     "start_time": "2022-02-16T14:15:24.759022",
     "status": "completed"
    },
    "tags": []
   },
   "outputs": [
    {
     "name": "stdout",
     "output_type": "stream",
     "text": [
      "              precision    recall  f1-score   support\n",
      "\n",
      "           0       0.99      0.81      0.89     53618\n",
      "           1       0.03      0.57      0.06       604\n",
      "\n",
      "    accuracy                           0.81     54222\n",
      "   macro avg       0.51      0.69      0.48     54222\n",
      "weighted avg       0.98      0.81      0.89     54222\n",
      "\n",
      "Train Accuracy:  0.7196575639358475\n",
      "Test Accuracy:  0.8109623400095902\n",
      "AUC Score: 0.7421973945440383\n"
     ]
    },
    {
     "data": {
      "image/png": "[encoded data removed]",
      "text/plain": [
       "<Figure size 432x288 with 2 Axes>"
      ]
     },
     "metadata": {
      "needs_background": "light"
     },
     "output_type": "display_data"
    }
   ],
   "source": [
    "abclassifier = AdaBoostClassifier(n_estimators=1000,learning_rate=0.1)\n",
    "abclassifier.fit(X_train, y_train)\n",
    "aby_pred = abclassifier.predict(X_test)\n",
    "aby_preds_prob = abclassifier.predict_proba(X_test)[:,1]\n",
    "result = confusion_matrix(y_test, aby_pred)\n",
    "r = np.sum(result,axis=1)\n",
    "a,b,c,d=result[0][0]/r[0],result[0][1]/r[0],result[1][0]/r[1],result[1][1]/r[1]\n",
    "sns.heatmap([[a,b],[c,d]], annot=True, fmt=\".2%\", cmap='Blues')\n",
    "print(classification_report(y_test, aby_pred))\n",
    "\n",
    "print('Train Accuracy: ',abclassifier.score(X_train,y_train))\n",
    "print('Test Accuracy: ',abclassifier.score(X_test,y_test))\n",
    "\n",
    "print('AUC Score:',roc_auc_score(y_test,aby_preds_prob))"
   ]
  },
  {
   "cell_type": "markdown",
   "id": "8064c4e1",
   "metadata": {
    "id": "8064c4e1",
    "papermill": {
     "duration": 0.243366,
     "end_time": "2022-02-16T14:16:34.440616",
     "exception": false,
     "start_time": "2022-02-16T14:16:34.197250",
     "status": "completed"
    },
    "tags": []
   },
   "source": [
    "# Checking ensemble results for validation data"
   ]
  },
  {
   "cell_type": "code",
   "execution_count": null,
   "id": "3710553d",
   "metadata": {
    "execution": {
     "iopub.execute_input": "2022-02-16T14:16:34.926505Z",
     "iopub.status.busy": "2022-02-16T14:16:34.925524Z",
     "iopub.status.idle": "2022-02-16T14:16:35.382126Z",
     "shell.execute_reply": "2022-02-16T14:16:35.381454Z",
     "shell.execute_reply.started": "2022-02-16T14:06:49.559428Z"
    },
    "id": "3710553d",
    "outputId": "5edcc5a6-7fdc-434e-db7e-6286021fdf4c",
    "papermill": {
     "duration": 0.700069,
     "end_time": "2022-02-16T14:16:35.382285",
     "exception": false,
     "start_time": "2022-02-16T14:16:34.682216",
     "status": "completed"
    },
    "tags": []
   },
   "outputs": [
    {
     "name": "stdout",
     "output_type": "stream",
     "text": [
      "[[46331  7287]\n",
      " [  282   322]]\n",
      "              precision    recall  f1-score   support\n",
      "\n",
      "           0       0.99      0.86      0.92     53618\n",
      "           1       0.04      0.53      0.08       604\n",
      "\n",
      "    accuracy                           0.86     54222\n",
      "   macro avg       0.52      0.70      0.50     54222\n",
      "weighted avg       0.98      0.86      0.92     54222\n",
      "\n",
      "AUC Score:  0.7432780246526879\n"
     ]
    },
    {
     "data": {
      "image/png": "[encoded data removed]",
      "text/plain": [
       "<Figure size 432x288 with 2 Axes>"
      ]
     },
     "metadata": {
      "needs_background": "light"
     },
     "output_type": "display_data"
    }
   ],
   "source": [
    "check = pd.DataFrame()\n",
    "check['rf_pred'] = rf_preds_prob\n",
    "check['xgb_pred'] = xgby_preds_prob\n",
    "check['knn_pred'] = knny_preds_prob\n",
    "check['ada_pred'] = aby_preds_prob\n",
    "check['sums'] = check[['rf_pred','xgb_pred','ada_pred']].mean(axis=1)\n",
    "check['cancelled'] = y_test.reset_index()['cancelled']\n",
    "check['pred'] = check['sums'].apply(lambda x: 1 if x>=0.5 else 0)\n",
    "result = confusion_matrix(y_test, check['pred'])\n",
    "print(result)\n",
    "a,b,c,d=result[0][0]/r[0],result[0][1]/r[0],result[1][0]/r[1],result[1][1]/r[1]\n",
    "sns.heatmap([[a,b],[c,d]], annot=True, fmt=\".2%\", cmap='Blues')\n",
    "print(classification_report(y_test, check['pred']))\n",
    "print(\"AUC Score: \",roc_auc_score(y_test,check['sums']))"
   ]
  },
  {
   "cell_type": "markdown",
   "id": "6e2e3a02",
   "metadata": {
    "id": "6e2e3a02",
    "papermill": {
     "duration": 0.268342,
     "end_time": "2022-02-16T14:16:35.893133",
     "exception": false,
     "start_time": "2022-02-16T14:16:35.624791",
     "status": "completed"
    },
    "tags": []
   },
   "source": [
    "# Predicting on test data and submission"
   ]
  },
  {
   "cell_type": "code",
   "execution_count": null,
   "id": "b9bf1a2d",
   "metadata": {
    "execution": {
     "iopub.execute_input": "2022-02-16T14:16:36.422224Z",
     "iopub.status.busy": "2022-02-16T14:16:36.420197Z",
     "iopub.status.idle": "2022-02-16T14:16:36.533642Z",
     "shell.execute_reply": "2022-02-16T14:16:36.532925Z",
     "shell.execute_reply.started": "2022-02-16T14:06:49.996024Z"
    },
    "id": "b9bf1a2d",
    "papermill": {
     "duration": 0.366711,
     "end_time": "2022-02-16T14:16:36.533791",
     "exception": false,
     "start_time": "2022-02-16T14:16:36.167080",
     "status": "completed"
    },
    "tags": []
   },
   "outputs": [],
   "source": [
    "test_df = test_df[cols]\n",
    "test_data = pd.merge(test_df,rider_deets[rider_deets.shape[0]//2:],left_index=True,right_index=True)"
   ]
  },
  {
   "cell_type": "code",
   "execution_count": null,
   "id": "430aca09",
   "metadata": {
    "execution": {
     "iopub.execute_input": "2022-02-16T14:16:37.029284Z",
     "iopub.status.busy": "2022-02-16T14:16:37.028343Z",
     "iopub.status.idle": "2022-02-16T14:17:55.637762Z",
     "shell.execute_reply": "2022-02-16T14:17:55.637084Z"
    },
    "id": "430aca09",
    "papermill": {
     "duration": 78.861054,
     "end_time": "2022-02-16T14:17:55.637951",
     "exception": false,
     "start_time": "2022-02-16T14:16:36.776897",
     "status": "completed"
    },
    "tags": []
   },
   "outputs": [],
   "source": [
    "y_preds_rf = rf.predict_proba(test_data)[:,1]\n",
    "y_preds_xgb = xgb_model.predict_proba(test_data)[:,1]\n",
    "y_preds_ada = abclassifier.predict_proba(test_data)[:,1]\n",
    "y_preds_knn = classifier.predict_proba(test_data)[:,1]"
   ]
  },
  {
   "cell_type": "code",
   "execution_count": null,
   "id": "f778f605",
   "metadata": {
    "execution": {
     "iopub.execute_input": "2022-02-16T14:17:56.162423Z",
     "iopub.status.busy": "2022-02-16T14:17:56.161776Z",
     "iopub.status.idle": "2022-02-16T14:17:56.852953Z",
     "shell.execute_reply": "2022-02-16T14:17:56.853410Z"
    },
    "id": "f778f605",
    "outputId": "3ab82688-eea9-4392-e92c-fef0a6927ac4",
    "papermill": {
     "duration": 0.944873,
     "end_time": "2022-02-16T14:17:56.853626",
     "exception": false,
     "start_time": "2022-02-16T14:17:55.908753",
     "status": "completed"
    },
    "tags": []
   },
   "outputs": [
    {
     "data": {
      "text/html": [
       "<div>\n",
       "<style scoped>\n",
       "    .dataframe tbody tr th:only-of-type {\n",
       "        vertical-align: middle;\n",
       "    }\n",
       "\n",
       "    .dataframe tbody tr th {\n",
       "        vertical-align: top;\n",
       "    }\n",
       "\n",
       "    .dataframe thead th {\n",
       "        text-align: right;\n",
       "    }\n",
       "</style>\n",
       "<table border=\"1\" class=\"dataframe\">\n",
       "  <thead>\n",
       "    <tr style=\"text-align: right;\">\n",
       "      <th></th>\n",
       "      <th>order_id</th>\n",
       "      <th>rf_pred</th>\n",
       "      <th>lgb_pred</th>\n",
       "      <th>xgb_pred</th>\n",
       "      <th>ada_pred</th>\n",
       "      <th>knn_pred</th>\n",
       "      <th>cat_pred</th>\n",
       "      <th>sums</th>\n",
       "      <th>cancelled</th>\n",
       "    </tr>\n",
       "  </thead>\n",
       "  <tbody>\n",
       "    <tr>\n",
       "      <th>0</th>\n",
       "      <td>130231</td>\n",
       "      <td>0.326520</td>\n",
       "      <td>0.472883</td>\n",
       "      <td>0.394723</td>\n",
       "      <td>0.500141</td>\n",
       "      <td>0.310628</td>\n",
       "      <td>0.351581</td>\n",
       "      <td>0.357608</td>\n",
       "      <td>0.357608</td>\n",
       "    </tr>\n",
       "    <tr>\n",
       "      <th>1</th>\n",
       "      <td>130232</td>\n",
       "      <td>0.301476</td>\n",
       "      <td>0.477924</td>\n",
       "      <td>0.421332</td>\n",
       "      <td>0.499012</td>\n",
       "      <td>0.413232</td>\n",
       "      <td>0.138844</td>\n",
       "      <td>0.287217</td>\n",
       "      <td>0.287217</td>\n",
       "    </tr>\n",
       "    <tr>\n",
       "      <th>2</th>\n",
       "      <td>130233</td>\n",
       "      <td>0.311470</td>\n",
       "      <td>0.450105</td>\n",
       "      <td>0.352763</td>\n",
       "      <td>0.498999</td>\n",
       "      <td>0.244146</td>\n",
       "      <td>0.273005</td>\n",
       "      <td>0.312413</td>\n",
       "      <td>0.312413</td>\n",
       "    </tr>\n",
       "    <tr>\n",
       "      <th>3</th>\n",
       "      <td>130234</td>\n",
       "      <td>0.389478</td>\n",
       "      <td>0.463086</td>\n",
       "      <td>0.389463</td>\n",
       "      <td>0.499904</td>\n",
       "      <td>0.187050</td>\n",
       "      <td>0.374400</td>\n",
       "      <td>0.384447</td>\n",
       "      <td>0.384447</td>\n",
       "    </tr>\n",
       "    <tr>\n",
       "      <th>4</th>\n",
       "      <td>130235</td>\n",
       "      <td>0.332612</td>\n",
       "      <td>0.450253</td>\n",
       "      <td>0.339454</td>\n",
       "      <td>0.499133</td>\n",
       "      <td>0.324717</td>\n",
       "      <td>0.271001</td>\n",
       "      <td>0.314356</td>\n",
       "      <td>0.314356</td>\n",
       "    </tr>\n",
       "    <tr>\n",
       "      <th>...</th>\n",
       "      <td>...</td>\n",
       "      <td>...</td>\n",
       "      <td>...</td>\n",
       "      <td>...</td>\n",
       "      <td>...</td>\n",
       "      <td>...</td>\n",
       "      <td>...</td>\n",
       "      <td>...</td>\n",
       "      <td>...</td>\n",
       "    </tr>\n",
       "    <tr>\n",
       "      <th>144839</th>\n",
       "      <td>41184</td>\n",
       "      <td>0.364317</td>\n",
       "      <td>0.457743</td>\n",
       "      <td>0.389816</td>\n",
       "      <td>0.498787</td>\n",
       "      <td>0.414154</td>\n",
       "      <td>0.274086</td>\n",
       "      <td>0.342739</td>\n",
       "      <td>0.342739</td>\n",
       "    </tr>\n",
       "    <tr>\n",
       "      <th>144840</th>\n",
       "      <td>41185</td>\n",
       "      <td>0.349903</td>\n",
       "      <td>0.443502</td>\n",
       "      <td>0.344096</td>\n",
       "      <td>0.499903</td>\n",
       "      <td>0.326938</td>\n",
       "      <td>0.519332</td>\n",
       "      <td>0.404444</td>\n",
       "      <td>0.404444</td>\n",
       "    </tr>\n",
       "    <tr>\n",
       "      <th>144841</th>\n",
       "      <td>41186</td>\n",
       "      <td>0.372121</td>\n",
       "      <td>0.448354</td>\n",
       "      <td>0.366995</td>\n",
       "      <td>0.499008</td>\n",
       "      <td>0.221701</td>\n",
       "      <td>0.371994</td>\n",
       "      <td>0.370370</td>\n",
       "      <td>0.370370</td>\n",
       "    </tr>\n",
       "    <tr>\n",
       "      <th>144842</th>\n",
       "      <td>41187</td>\n",
       "      <td>0.493329</td>\n",
       "      <td>0.476625</td>\n",
       "      <td>0.382035</td>\n",
       "      <td>0.500958</td>\n",
       "      <td>0.512572</td>\n",
       "      <td>0.437195</td>\n",
       "      <td>0.437519</td>\n",
       "      <td>0.437519</td>\n",
       "    </tr>\n",
       "    <tr>\n",
       "      <th>144843</th>\n",
       "      <td>41188</td>\n",
       "      <td>0.416884</td>\n",
       "      <td>0.480593</td>\n",
       "      <td>0.434598</td>\n",
       "      <td>0.499694</td>\n",
       "      <td>0.280882</td>\n",
       "      <td>0.512820</td>\n",
       "      <td>0.454768</td>\n",
       "      <td>0.454768</td>\n",
       "    </tr>\n",
       "  </tbody>\n",
       "</table>\n",
       "<p>144844 rows × 9 columns</p>\n",
       "</div>"
      ],
      "text/plain": [
       "        order_id   rf_pred  lgb_pred  xgb_pred  ada_pred  knn_pred  cat_pred  \\\n",
       "0         130231  0.326520  0.472883  0.394723  0.500141  0.310628  0.351581   \n",
       "1         130232  0.301476  0.477924  0.421332  0.499012  0.413232  0.138844   \n",
       "2         130233  0.311470  0.450105  0.352763  0.498999  0.244146  0.273005   \n",
       "3         130234  0.389478  0.463086  0.389463  0.499904  0.187050  0.374400   \n",
       "4         130235  0.332612  0.450253  0.339454  0.499133  0.324717  0.271001   \n",
       "...          ...       ...       ...       ...       ...       ...       ...   \n",
       "144839     41184  0.364317  0.457743  0.389816  0.498787  0.414154  0.274086   \n",
       "144840     41185  0.349903  0.443502  0.344096  0.499903  0.326938  0.519332   \n",
       "144841     41186  0.372121  0.448354  0.366995  0.499008  0.221701  0.371994   \n",
       "144842     41187  0.493329  0.476625  0.382035  0.500958  0.512572  0.437195   \n",
       "144843     41188  0.416884  0.480593  0.434598  0.499694  0.280882  0.512820   \n",
       "\n",
       "            sums  cancelled  \n",
       "0       0.357608   0.357608  \n",
       "1       0.287217   0.287217  \n",
       "2       0.312413   0.312413  \n",
       "3       0.384447   0.384447  \n",
       "4       0.314356   0.314356  \n",
       "...          ...        ...  \n",
       "144839  0.342739   0.342739  \n",
       "144840  0.404444   0.404444  \n",
       "144841  0.370370   0.370370  \n",
       "144842  0.437519   0.437519  \n",
       "144843  0.454768   0.454768  \n",
       "\n",
       "[144844 rows x 9 columns]"
      ]
     },
     "execution_count": 30,
     "metadata": {},
     "output_type": "execute_result"
    }
   ],
   "source": [
    "sub = pd.DataFrame(columns = ['order_id'])\n",
    "sub['order_id'] = pd.read_csv('../input/cascade-cup-22/test.csv')['order_id']\n",
    "sub['rf_pred'] = y_preds_rf\n",
    "sub['xgb_pred'] = y_preds_xgb\n",
    "sub['ada_pred'] = y_preds_ada\n",
    "sub['knn_pred'] = y_preds_knn\n",
    "sub['sums'] = sub[['rf_pred','xgb_pred','ada_pred']].mean(axis=1)\n",
    "sub['cancelled'] = sub['sums'].apply(lambda x: x)\n",
    "sub"
   ]
  },
  {
   "cell_type": "code",
   "execution_count": null,
   "id": "caa76356",
   "metadata": {
    "execution": {
     "iopub.execute_input": "2022-02-16T14:17:58.604929Z",
     "iopub.status.busy": "2022-02-16T14:17:58.603603Z",
     "iopub.status.idle": "2022-02-16T14:17:59.101927Z",
     "shell.execute_reply": "2022-02-16T14:17:59.101214Z"
    },
    "id": "caa76356",
    "papermill": {
     "duration": 0.749177,
     "end_time": "2022-02-16T14:17:59.102077",
     "exception": false,
     "start_time": "2022-02-16T14:17:58.352900",
     "status": "completed"
    },
    "tags": []
   },
   "outputs": [],
   "source": [
    "sub[['order_id','cancelled']].to_csv('submission.csv',index=False)"
   ]
  }
 ],
 "metadata": {
  "colab": {
   "collapsed_sections": [
    "199cc239",
    "0b9f741b",
    "9a8f30ce"
   ],
   "provenance": []
  },
  "kernelspec": {
   "display_name": "Python 3 (ipykernel)",
   "language": "python",
   "name": "python3"
  },
  "language_info": {
   "codemirror_mode": {
    "name": "ipython",
    "version": 3
   },
   "file_extension": ".py",
   "mimetype": "text/x-python",
   "name": "python",
   "nbconvert_exporter": "python",
   "pygments_lexer": "ipython3",
   "version": "3.12.5"
  },
  "papermill": {
   "default_parameters": {},
   "duration": 458.298664,
   "end_time": "2022-02-16T14:18:00.966048",
   "environment_variables": {},
   "exception": null,
   "input_path": "__notebook__.ipynb",
   "output_path": "__notebook__.ipynb",
   "parameters": {},
   "start_time": "2022-02-16T14:10:22.667384",
   "version": "2.3.3"
  }
 },
 "nbformat": 4,
 "nbformat_minor": 5
}
